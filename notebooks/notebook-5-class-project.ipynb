{
 "cells": [
  {
   "cell_type": "markdown",
   "metadata": {},
   "source": [
    "<div style=\"background-color: #002676; padding: 20px;\">\n",
    "<img src=\"https://macss.berkeley.edu/wp-content/uploads/2023/09/UCBMaCSS_Logo_2Color_Reverse_TaglineB.png\" alt=\"MaCSS\" width=\"300\">\n",
    "</div>\n",
    "\n",
    "# **Notebook 5:** Class Project\n",
    "\n",
    "[wdtmacss@berkeley.edu](mailto:wdtmacss@berkeley.edu)\\\n",
    "**Computational Social Science 1A**\\\n",
    "[Human Psychology and Social Technologies](https://classes.berkeley.edu/content/2024-fall-compss-214a-001-lec-001) \n",
    "Fall 2024\\\n",
    "UC Berkeley [Masters in Computational Social Science](https://macss.berkeley.edu/about/)\n",
    "\n",
    "**Week 6:** Getting started with your class project\n",
    "\n",
    "👩🏾‍🔬🧑‍💻👩🏻‍💻👨🏿‍💻🔬\n",
    "\n",
    "---\n",
    "\n",
    "# Table of Contents\n",
    "1. [Announcements](#announcements)\n",
    "2. [Summary of Today's Class](#summary-of-todays-class)\n",
    "3. [Recap: The McCabe et al. Study & Dataset](#recap-data)\n",
    "4. [Assignment Three Info: Class Project](#assignment-three)\n",
    "5. [Data Exploration Sandbox](#data-exploration-sandbox)\n",
    "\n",
    "\n",
    "---"
   ]
  },
  {
   "cell_type": "markdown",
   "metadata": {},
   "source": [
    "# Announcments\n",
    "*  Assignment 2\n",
    "   * Thank you for submitting 🙏\n",
    "   * Gradescope issues?\n",
    "*  Next week: final lab 🥲\n",
    "   * We will order cupcakes from [Cupcakin](https://cupcakinbakeshop.com/)\n",
    "   * **Final Readings**: we will read two short perspective peices:\n",
    "       * [Misunderstanding the harms of online misinformation](https://www.nature.com/articles/s41586-024-07417-w) ([pdf](https://bcourses.berkeley.edu/files/89852994/download?download_frd=1))\n",
    "       * [Misinformation poses a bigger threat to democracy than you might think](https://www.nature.com/articles/d41586-024-01587-3) ([pdf](https://bcourses.berkeley.edu/files/89852983/download?download_frd=1))\n",
    "*  Questions?\n",
    "\n",
    "**New research alert:** \n",
    "\n",
    "Mosleh, M., Yang, Q., Zaman, T. et al. (2024) [Differences in misinformation sharing can lead to politically asymmetric sanctions](https://www.nature.com/articles/s41586-024-07942-8). *Nature*. https://doi.org/10.1038/s41586-024-07942-8 ([Data Available](https://osf.io/a2t7d/))\n",
    "\n",
    "> In response to intense pressure, technology companies have enacted policies to combat misinformation1,2,3,4. The enforcement of these policies has, however, led to technology companies being regularly accused of political bias5,6,7. We argue that differential sharing of misinformation by people identifying with different political groups8,9,10,11,12,13,14,15 could lead to political asymmetries in enforcement, even by unbiased policies. We first analysed 9,000 politically active Twitter users during the US 2020 presidential election. Although users estimated to be pro-Trump/conservative were indeed substantially more likely to be suspended than those estimated to be pro-Biden/liberal, users who were pro-Trump/conservative also shared far more links to various sets of low-quality news sites—even when news quality was determined by politically balanced groups of laypeople, or groups of only Republican laypeople—and had higher estimated likelihoods of being bots. We find similar associations between stated or inferred conservatism and low-quality news sharing (on the basis of both expert and politically balanced layperson ratings) in 7 other datasets of sharing from Twitter, Facebook and survey experiments, spanning 2016 to 2023 and including data from 16 different countries. Thus, even under politically neutral anti-misinformation policies, political asymmetries in enforcement should be expected. Political imbalance in enforcement need not imply bias on the part of social media companies implementing anti-misinformation policies."
   ]
  },
  {
   "cell_type": "markdown",
   "metadata": {},
   "source": [
    "# Summary of Today's Class\n",
    "\n",
    "**Today we will:** \n",
    "*  Revisit the Twitter dataset\n",
    "*  Discuss the class project (Assignment 3)\n",
    "*  Start the class project"
   ]
  },
  {
   "cell_type": "markdown",
   "metadata": {},
   "source": [
    "# Recap: The McCabe et al. Study & Dataset\n",
    "\n",
    "**Twitter Deplatformed 70,000 Accounts to curb misinformation** Did it work?\n",
    "\n",
    "From last week:\n",
    "\n",
    "> In 2021, Twitter undertook a highly unusual intervention designed to counteract the spread of misinformation during a critical political event. Under normal circumstances, the effects of social media algorithms on information spread are very difficult to detect. This intervention was unusual because the number of deplatformed users was large, they belonged to a specific group, and the timing was made publicly known. A team of social media researchers examined the effects of this intervention, and published their findings in the world's most prestigous scientific journal.\n",
    "\n",
    "**Questions we dicussed**\n",
    "*  What does depltforming mean in this context?\n",
    "*  Who were the people included in the dataset?\n",
    "*  What do we know about the people who were deplatformed?\n",
    "*  What is the timeline of relevant events?\n",
    "*  What are the main objectives of the research?\n",
    "*  What are the key analyses used?\n",
    "*  What are the major conclusions?"
   ]
  },
  {
   "cell_type": "code",
   "execution_count": 1,
   "metadata": {},
   "outputs": [],
   "source": [
    "import pandas as pd"
   ]
  },
  {
   "cell_type": "code",
   "execution_count": null,
   "metadata": {},
   "outputs": [],
   "source": [
    "df = pd.read_csv('/home/jovyan/compss-214a/mccabe-public-data.csv')"
   ]
  },
  {
   "cell_type": "code",
   "execution_count": null,
   "metadata": {},
   "outputs": [],
   "source": [
    "df.head()"
   ]
  },
  {
   "cell_type": "code",
   "execution_count": null,
   "metadata": {},
   "outputs": [],
   "source": [
    "df.iloc[0]"
   ]
  },
  {
   "cell_type": "markdown",
   "metadata": {},
   "source": [
    "**What are the variables?**\n",
    "\n",
    "The Github repository contains a codebook describing the variables in the dataset. The codebook (pdf document) can be accessed here:\n",
    "\n",
    "[github.com/DiogoFerrari/replication-twitter-deplatforming/blob/master/codebook.pdf](https://github.com/DiogoFerrari/replication-twitter-deplatforming/blob/master/codebook.pdf)\n",
    "\n",
    "Let's go through these variables together.\n",
    "\n",
    "Main variable categories:\n",
    "* fake\n",
    "   *  fake_initiation (number of fake news links posted)\n",
    "   *  fake_rt (number of fake news links retweeted)\n",
    "   *  fake (fake_initiation + fake_rt)  \n",
    "* not fake\n",
    "   * not_fake_initiation\n",
    "   * not_fake_rt\n",
    "   * not_fake (not_fake_initiation + not_fake_rt)\n",
    "* fake_grinberg, fake_newsgaurd, etc (analagous but _fake_ classification is made according to a different list eg. newsgaurd list -- link to lists from article here or make that an excersise?)\n",
    "* n (fake + not fake)\n",
    "* stat (avg, total)\n",
    "* nusers\n",
    "* Date (we will discuss below &darr;)\n",
    "* User groups (e.g. qanon, suspended; we will go through user groups below &darr; &darr;)\n"
   ]
  },
  {
   "cell_type": "code",
   "execution_count": null,
   "metadata": {},
   "outputs": [],
   "source": [
    "groups = df.group.unique()"
   ]
  },
  {
   "cell_type": "code",
   "execution_count": null,
   "metadata": {},
   "outputs": [],
   "source": [
    "for group in groups:\n",
    "  print(group)"
   ]
  },
  {
   "cell_type": "markdown",
   "metadata": {},
   "source": [
    "From Notebook 1:\n",
    "\n",
    "## Class Discussion 2: Key assumptions and study decisions\n",
    "Like all data analysis projects, the study by McCabe et al was made tractable as a result of some key assumptions and design decisions in their analyses. In groups, we are going to discuss some of these assumptions, design decisions, and potential confounds. Each group will be assiged one of the following questions to discuss. Togethor, go through the article to find the parts relevant to your question.\n",
    "\n",
    "1. **Question 1: Classification of Misinformation Tweets** How were Tweets classified as misinformation in this study? Do you think this classification is fair and useful? Can you iagine an alternative, more stringent approach to classification? How might the current classification approach have influenced the results?   \n",
    "2. **Question 2: Classification of Misinformation Sharers** How were users classified as misinformation sharers in this study? Do you think this classification is fair and useful? Can you iagine an alternative, more stringent approach to classification? How might the current classification approach have influenced the results?   \n",
    "3. **Question 3: Classification of Followers** How were users classified as followers of deplatformed users in this study? Do you think this classification is fair and useful? Were multiple alternatives examined? Can you iagine an alternative, more stringent approach to classification? How might the current classification approach have influenced the results?\n",
    "4. **Question 4: Primary Outcome = Daily count of Tweets and Retweets** The primary outcome variable in this study is a daily count of Tweets and Retweets of misinformation. Do you think this outcome variable is natural and useful? Can you iagine an alternative, more informative quantitity to measure and model?\n",
    "5. **Question 5: Synchronous Exit of Right-Wing Users** One potential confound in this study is that it is possible that many users who were not themselves deplatformed, but were behaviorally aligned with deplatformed accounts (e.g. Qanon users), left Twitter voluntarily in favor of emerging right-wing platforms. How do the researchers account for this possibility? How might this parallel exit have influence the findings here? Can you think of alternative ways to account for this confound?\n",
    "  "
   ]
  },
  {
   "cell_type": "markdown",
   "metadata": {
    "jp-MarkdownHeadingCollapsed": true
   },
   "source": [
    "# Assignment 3: Class Project\n",
    "In the class project, you will combine the things we have practised during lab sessions (data exploration, data analysis using DiD regressions) and apply them to the Twitter dataset. Your essay will provide a data-driven answer to the question: **Did deplatforming reduce misinformation on Twitter?**\n",
    "\n",
    "You can use lab time today and next week to get started on your project and practice the relevant skills. \n",
    "\n",
    "*  Assignment 3 Description: [assignment-thee-description.pdf](https://bcourses.berkeley.edu/files/89852410/download?download_frd=1)\n",
    "*  Notebook: [assignment-thee.ipynb](https://bcourses.berkeley.edu/files/89852452/download?download_frd=1)"
   ]
  },
  {
   "cell_type": "markdown",
   "metadata": {},
   "source": [
    "# Data Exploration Sandbox\n",
    "Feel free to use this space to get back into the McCabe dataset and practice exploring the data."
   ]
  },
  {
   "cell_type": "code",
   "execution_count": 3,
   "metadata": {},
   "outputs": [],
   "source": [
    "# code goes here"
   ]
  },
  {
   "cell_type": "code",
   "execution_count": null,
   "metadata": {},
   "outputs": [],
   "source": []
  }
 ],
 "metadata": {
  "colab": {
   "authorship_tag": "ABX9TyMjKKvsXWGfVMJTH0rE3JRo",
   "provenance": []
  },
  "kernelspec": {
   "display_name": "Python 3 (ipykernel)",
   "language": "python",
   "name": "python3"
  },
  "language_info": {
   "codemirror_mode": {
    "name": "ipython",
    "version": 3
   },
   "file_extension": ".py",
   "mimetype": "text/x-python",
   "name": "python",
   "nbconvert_exporter": "python",
   "pygments_lexer": "ipython3",
   "version": "3.12.5"
  }
 },
 "nbformat": 4,
 "nbformat_minor": 4
}
