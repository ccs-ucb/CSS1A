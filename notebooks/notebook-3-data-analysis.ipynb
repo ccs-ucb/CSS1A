{
 "cells": [
  {
   "cell_type": "markdown",
   "metadata": {},
   "source": [
    "<div style=\"background-color: #002676; padding: 20px;\">\n",
    "<img src=\"https://macss.berkeley.edu/wp-content/uploads/2023/09/UCBMaCSS_Logo_2Color_Reverse_TaglineB.png\" alt=\"MaCSS\" width=\"300\">\n",
    "</div>\n",
    "\n",
    "# **Notebook 3:** Data Analysis\n",
    "\n",
    "[wdtmacss@berkeley.edu](mailto:wdtmacss@berkeley.edu)\\\n",
    "**Computational Social Science 1A**\\\n",
    "[Human Psychology and Social Technologies](https://classes.berkeley.edu/content/2024-fall-compss-214a-001-lec-001) \n",
    "Fall 2024\\\n",
    "UC Berkeley [Masters in Computational Social Science](https://macss.berkeley.edu/about/)\n",
    "\n",
    "**Week 4:** Difference in Differences analysis. Simulating a dataset & performing regressions in Python.\n",
    "\n",
    "👩🏾‍🔬🧑‍💻👩🏻‍💻👨🏿‍💻🔬\n",
    "\n",
    "---\n",
    "\n",
    "# Table of Contents\n",
    "1. [Announcements](#announcements)\n",
    "2. [Summary of Today's Class](#summary-of-todays-class)\n",
    "3. [An Introduction to Difference in Differences Analysis](#an-introduction-to-difference-in-differences-analysis)\n",
    "   - [Simple conceptual example # 1: two lemon trees](#simple-conceptual-example-#1-two-lemon-trees)\n",
    "   - [Simple conceptual example # 2: Remote Work vs. In-Office Work](#simple-conceptual-example-#2-remote-work-vs-in-office-work)\n",
    "5. [DiD Analysis: A Minimal Working Example, Implemented](#did-analysis-a-minimal-working-example-implemented)\n",
    "   - [Simulating a Dataset](#simulating-a-dataset)\n",
    "     - [Simulation Parameters](#simulation-parameters)\n",
    "       - [Employee Satisfaction Parameters](#employee-satisfaction-parameters)\n",
    "       - [Time Window Parameters](#time-window-parameters)\n",
    "       - [Treatment Effect Parameters](#treatment-effect-parameters)\n",
    "     - [Data Simulation](#data-simulation)\n",
    "       - [Data Simulation Challenge 1: Treatment Effect](#data-simulation-challenge-1-treatment-effect)\n",
    "       - [Data Simulation Challenge 2: Onset Date](#data-simulation-challenge-2-onset-date)\n",
    "   - [Analysing the Simulated Dataset](#analysing-the-dataset)\n",
    "     - [Understanding the Regression Results](#understanding-the-regression-results)\n",
    "   - [Data Analysis Challenge 1: Treatment Effect](#data-analysis-challenge-1-treatment-effect)\n",
    "   - [Data Analysis Challenge 2: Baseline Satisfaction Levels](#data-analysis-challenge-2-baseline-satisfaction-levels)\n",
    "   - [Data Analysis Challenge: Explore Additional Variables](#data-analysis-challenge-explore-additional-variables)\n",
    "\n",
    "---"
   ]
  },
  {
   "cell_type": "markdown",
   "metadata": {},
   "source": [
    "# Announcments\n",
    "*  Next week's lab session: do people want another week on this topic? I will poll the class at the end of the lesson today.\n",
    "*  Questions?"
   ]
  },
  {
   "cell_type": "markdown",
   "metadata": {},
   "source": [
    "# Summary of Today's Class\n",
    "The goal today is to become familiar with a Difference in Differences (DiD) analysis.\n",
    "\n",
    "**Today we will:** \n",
    "*  Discuss DiD analysis and the situations in which it cna be useful\n",
    "*  Simulate a dataset with the same structure as the McCabe dataset\n",
    "*  Perform DiD analyses on the simulated dataset\n",
    "\n",
    "Today's programming exercises are designed to introduce you to DiD analyses in particular, and to the practice of simulating data as a way to gain a deeper, more practical understanding of data analysis methods in general. DiD analyses can be expressed as simple linear regressions, so today's exceersises are also designed to provide hands on practice in the domain of regression analysis -- arguably the core tool of data science and a vital skill for any data analyst.  \n",
    "\n",
    "**Functionality we will cover today:**\n",
    "*   Simulating a dataset\n",
    "    *   Pandas Dataframes\n",
    "    *   Radomness via Numpy    \n",
    "*   Regression analysis in Python using [statsmodels](https://www.statsmodels.org/stable/index.html)\n",
    "    *  Linear regression\n",
    "    *  Regression formulas\n",
    "    *  Interaction terms\n",
    "    *  Reading a regression results table  \n",
    "*   [Seaborn lineplots](https://seaborn.pydata.org/generated/seaborn.lineplot.html)"
   ]
  },
  {
   "cell_type": "markdown",
   "metadata": {
    "id": "N2oIPAuXzgUN"
   },
   "source": [
    "---\n",
    "# An Introduction to Difference in Differences Analysis \n",
    "Let's start with some examples.\n",
    "\n",
    "## Simple conceptual example #1: Two lemon trees\n",
    "<img src=\"https://m.media-amazon.com/images/I/71ncCcZ5gcL.jpg\" alt=\"two lemon trees\" width=\"300\">\n",
    "Here are two lemon trees!\n",
    "\n",
    "*  **2022** In 2022 (timepoint one), the tree on the left made 14 lemons, the tree on the right made 8 lemons\n",
    "*  **Fertilizer:** At the end of 2022, the tree on the left was given fertilizer (the **treatment**). The tree on the right was not (**control**). \n",
    "*  **2023** In 2022 (timepoint two), the tree on the left made 17 lemons, the tree on the right made 11 lemons\n",
    "\n",
    "**Did the fertilizer work?**\n",
    "Difference in differences is calculated as follows:\n",
    "*  The tree on the left produced 14 lemons in the first year and 17 lemons in the second. So the difference between the first and the second year is `17 - 14 = +3`.\n",
    "*  The tree on the right produced 8 lemons in the first year and 9 lemons in the second. So the difference between the first and the second year is `11 - 9 = +2`.\n",
    "*  So the **difference** between these differences is `3 - 2 = +1`.\n",
    "*  So we conclude that the fertilizer led to one more lemon than expected (relative to the change observed in the control group)\n",
    "\n",
    "**Questions?** Is there anyting you think is weak about this analysis? In what circumstances would it give us the wrong conclusion? How would it generalize to more complex sets of multiple measurements over time?\n",
    "\n",
    "\n",
    "## Simple conceptual example #2: Remote Work vs. In-Office Work \n",
    "**Class discussion of an example:** Two comparable companies, one started to allow remote work, the other didn't. Employee satisfaction is measured over time at both companies, before and after the onset of remote work.\n",
    "\n",
    "## A more technical definition\n",
    "Two groups, measured over time. One group is subject to an intervention during the measurement window, the other group is not. DiD analysis allows you to examine whether the intervention was assosciated with an effect on an outcome variable by comparing differences in the change in the outcome pre- and post- intervention between groups. Here is the [wikipedia page on DiD](https://en.wikipedia.org/wiki/Difference_in_differences). The key question that this analysis answers is whether the treamtent group experienced significantly more or less *change* than is expected relative to the change that occured in the control group.\n",
    "\n",
    "---"
   ]
  },
  {
   "cell_type": "markdown",
   "metadata": {},
   "source": [
    "# **DiD Analysis:** A Minimal Working Example, Implemented. \n",
    "1. First we will simulate a dataset. The process of simulating a dataset can be very helpful in understanding the key dimensions of an analysis conceptually, and allows you to asses how well the resulting analysis recovers the underlying true structure of the data -- because you created the data.\n",
    "\n",
    "2. Second, we will perform a difference in differences analysis on simulated datasets. "
   ]
  },
  {
   "cell_type": "markdown",
   "metadata": {},
   "source": [
    "## Simulating a Dataset"
   ]
  },
  {
   "cell_type": "code",
   "execution_count": 165,
   "metadata": {
    "id": "KIyW-dRvclsG"
   },
   "outputs": [],
   "source": [
    "import pandas as pd\n",
    "import numpy as np\n",
    "import matplotlib.pyplot as plt\n",
    "import seaborn as sns"
   ]
  },
  {
   "cell_type": "markdown",
   "metadata": {},
   "source": [
    "### Simulation Parameters\n",
    "Below, we'll define a few parameters we need to simulate a dataset of `employee_satisfaction` scores in the context of the remote work \"treatment\". These parameters of of course completely made up, but we need to commit to some specific numbers in order to simulate data.  "
   ]
  },
  {
   "cell_type": "markdown",
   "metadata": {},
   "source": [
    "#### Employee Satisfaction Parameters\n",
    "We'll simulate data by assuming there is an average `employee_satisfaction` score for each company. When generating data for each simulated employee, we will take the average and add noise to it so that the dataset includes some random variability."
   ]
  },
  {
   "cell_type": "code",
   "execution_count": 166,
   "metadata": {},
   "outputs": [],
   "source": [
    "# Mean employee_satisfaction levels for both companies\n",
    "company_profiles = {\n",
    "    \"Rubicon\": {\n",
    "        \"employee_satisfaction\": 5.2 # satisfaction on a scale of 1 to 10\n",
    "    },\n",
    "    \"Giggle\": {\n",
    "        \"employee_satisfaction\": 6.1 # satisfaction on a scale of 1 to 10\n",
    "    },\n",
    "}\n",
    "\n",
    "# number of  employees we will simulate per company in our simulated dataset\n",
    "num_employees_per_company = 50\n",
    "\n",
    "# We will add noise to the employee_satisfaction means when simulating data\n",
    "# A larger number here means more noise\n",
    "satisfaction_variance = 1 "
   ]
  },
  {
   "cell_type": "markdown",
   "metadata": {},
   "source": [
    "#### Time window parameters\n",
    "Our dataset needs to simulate a specific time window for data collection. We can use Pandas `datetime` functionality again to do this."
   ]
  },
  {
   "cell_type": "code",
   "execution_count": 167,
   "metadata": {},
   "outputs": [],
   "source": [
    "# Define a data collection time window\n",
    "data_collection_start_date = pd.to_datetime(\"2022-01-01\")\n",
    "data_collection_end_date = pd.to_datetime(\"2023-12-31\")\n",
    "\n",
    "# Create an array of dates on which to simulate collection of satisfaction data\n",
    "dates = pd.date_range(\n",
    "    start=data_collection_start_date, \n",
    "    end=data_collection_end_date, \n",
    "    freq='W' # weekly intervals between start and end\n",
    ")"
   ]
  },
  {
   "cell_type": "markdown",
   "metadata": {},
   "source": [
    "#### Treatment effect parameters\n",
    "How does remote work effect satisfaction? Here's where we define the key effect of the treatment in our data. When simulating data, we will sample baseline `employee_satisfaction` scores from the company average, then add or subtract from the samples a `remote_work_treatment_effect`. \n",
    "\n",
    "For example, if our assumption is that remote work improved `employee_satisfaction` here, we would add a positive number to the score (i.e. we would set the `remote_work_treatment_effect` variable to a positive number). We could alternatively assume it had a negative effect, and set the `remote_work_treatment_effect` variable to a negative number. \n",
    "\n",
    "We also need to specifcy the time at which the `treatment` occurred, so that we can distinguish score that are before and after the treatment when simulating data. "
   ]
  },
  {
   "cell_type": "code",
   "execution_count": 168,
   "metadata": {},
   "outputs": [],
   "source": [
    "remote_work_onset_date = pd.to_datetime(\"2023-01-01\")\n",
    "remote_work_treatment_effect = 2"
   ]
  },
  {
   "cell_type": "markdown",
   "metadata": {},
   "source": [
    "### Data simulation\n",
    "Now we have the parameters defined, we can simulate a dataset. We'll assume that `Giggle` is the company who allowed remote work after `remote_work_onset_date`, and `Rubicon` did not allow remote work.\n",
    "\n",
    "The code block below (heavily commented) generates a simulated dataset by looping (`iterating`) over the relevant companies, dates, and number of employees and generating a satisfaction score. **Our goal is to simulate a satisfaction socre for every employee on every date included in the data collection window**. Specifically, we need to generate simulated satisfaction scores in a way that reflects the effects of remote work, and the fact that only one company allowed remote work, and only after a certain date.\n",
    "\n",
    "Work through this code block and make sure you understand what every line is doing. **First read the code directly, then read the comments** for any lines that aren't clear."
   ]
  },
  {
   "cell_type": "code",
   "execution_count": 169,
   "metadata": {},
   "outputs": [
    {
     "name": "stdout",
     "output_type": "stream",
     "text": [
      "Simulating Rubicon Data\n",
      "Simulating Giggle Data\n"
     ]
    }
   ],
   "source": [
    "# create an empty list to store our simulated data\n",
    "data = []\n",
    "\n",
    "# iterate over the company_profiles\n",
    "for company, profile in company_profiles.items():\n",
    "    print(f\"Simulating {company} Data\")\n",
    "    \n",
    "    # iterate over the date range\n",
    "    for date in dates:\n",
    "\n",
    "        # iterate over the number of employees\n",
    "        for i in range(num_employees_per_company):\n",
    "            \n",
    "            # sample an initial satisfaction level \n",
    "            # by using the company average and adding noise \n",
    "            satisfaction = profile[\"employee_satisfaction\"] + np.random.normal(0, satisfaction_variance)\n",
    "            \n",
    "            # add in the treatment effect\n",
    "            if date > remote_work_onset_date:\n",
    "                if company == \"Giggle\":\n",
    "                    satisfaction += remote_work_treatment_effect \n",
    "            \n",
    "            # create the datapoint for our dataset\n",
    "            datapoint = {\n",
    "                \"date\": date, \n",
    "                \"company\": company,\n",
    "                \"satisfaction\": satisfaction,\n",
    "                \"employee_id\": f\"{company[0]}{i}\" # create a fake employee id by combining the company name initial letter and the loop index variable\n",
    "            } \n",
    "            data.append(datapoint)"
   ]
  },
  {
   "cell_type": "markdown",
   "metadata": {},
   "source": [
    "Let's put the data we just generated into a pandas dataframe, and take a look at a sample from the dataframe to make sure it is structured as we intended."
   ]
  },
  {
   "cell_type": "code",
   "execution_count": 170,
   "metadata": {},
   "outputs": [],
   "source": [
    "df = pd.DataFrame(data)"
   ]
  },
  {
   "cell_type": "code",
   "execution_count": 171,
   "metadata": {},
   "outputs": [
    {
     "data": {
      "text/html": [
       "<div>\n",
       "<style scoped>\n",
       "    .dataframe tbody tr th:only-of-type {\n",
       "        vertical-align: middle;\n",
       "    }\n",
       "\n",
       "    .dataframe tbody tr th {\n",
       "        vertical-align: top;\n",
       "    }\n",
       "\n",
       "    .dataframe thead th {\n",
       "        text-align: right;\n",
       "    }\n",
       "</style>\n",
       "<table border=\"1\" class=\"dataframe\">\n",
       "  <thead>\n",
       "    <tr style=\"text-align: right;\">\n",
       "      <th></th>\n",
       "      <th>date</th>\n",
       "      <th>company</th>\n",
       "      <th>satisfaction</th>\n",
       "      <th>employee_id</th>\n",
       "    </tr>\n",
       "  </thead>\n",
       "  <tbody>\n",
       "    <tr>\n",
       "      <th>2467</th>\n",
       "      <td>2022-12-11</td>\n",
       "      <td>Rubicon</td>\n",
       "      <td>6.084918</td>\n",
       "      <td>R17</td>\n",
       "    </tr>\n",
       "    <tr>\n",
       "      <th>497</th>\n",
       "      <td>2022-03-06</td>\n",
       "      <td>Rubicon</td>\n",
       "      <td>6.135309</td>\n",
       "      <td>R47</td>\n",
       "    </tr>\n",
       "    <tr>\n",
       "      <th>267</th>\n",
       "      <td>2022-02-06</td>\n",
       "      <td>Rubicon</td>\n",
       "      <td>7.466104</td>\n",
       "      <td>R17</td>\n",
       "    </tr>\n",
       "    <tr>\n",
       "      <th>6958</th>\n",
       "      <td>2022-08-28</td>\n",
       "      <td>Giggle</td>\n",
       "      <td>6.119425</td>\n",
       "      <td>G8</td>\n",
       "    </tr>\n",
       "    <tr>\n",
       "      <th>1820</th>\n",
       "      <td>2022-09-11</td>\n",
       "      <td>Rubicon</td>\n",
       "      <td>4.873816</td>\n",
       "      <td>R20</td>\n",
       "    </tr>\n",
       "    <tr>\n",
       "      <th>1547</th>\n",
       "      <td>2022-07-31</td>\n",
       "      <td>Rubicon</td>\n",
       "      <td>5.201511</td>\n",
       "      <td>R47</td>\n",
       "    </tr>\n",
       "    <tr>\n",
       "      <th>5238</th>\n",
       "      <td>2023-12-31</td>\n",
       "      <td>Rubicon</td>\n",
       "      <td>4.114786</td>\n",
       "      <td>R38</td>\n",
       "    </tr>\n",
       "    <tr>\n",
       "      <th>2647</th>\n",
       "      <td>2023-01-01</td>\n",
       "      <td>Rubicon</td>\n",
       "      <td>5.172509</td>\n",
       "      <td>R47</td>\n",
       "    </tr>\n",
       "    <tr>\n",
       "      <th>8813</th>\n",
       "      <td>2023-05-14</td>\n",
       "      <td>Giggle</td>\n",
       "      <td>9.235527</td>\n",
       "      <td>G13</td>\n",
       "    </tr>\n",
       "    <tr>\n",
       "      <th>8967</th>\n",
       "      <td>2023-06-04</td>\n",
       "      <td>Giggle</td>\n",
       "      <td>7.350023</td>\n",
       "      <td>G17</td>\n",
       "    </tr>\n",
       "  </tbody>\n",
       "</table>\n",
       "</div>"
      ],
      "text/plain": [
       "           date  company  satisfaction employee_id\n",
       "2467 2022-12-11  Rubicon      6.084918         R17\n",
       "497  2022-03-06  Rubicon      6.135309         R47\n",
       "267  2022-02-06  Rubicon      7.466104         R17\n",
       "6958 2022-08-28   Giggle      6.119425          G8\n",
       "1820 2022-09-11  Rubicon      4.873816         R20\n",
       "1547 2022-07-31  Rubicon      5.201511         R47\n",
       "5238 2023-12-31  Rubicon      4.114786         R38\n",
       "2647 2023-01-01  Rubicon      5.172509         R47\n",
       "8813 2023-05-14   Giggle      9.235527         G13\n",
       "8967 2023-06-04   Giggle      7.350023         G17"
      ]
     },
     "execution_count": 171,
     "metadata": {},
     "output_type": "execute_result"
    }
   ],
   "source": [
    "df.sample(n=10)"
   ]
  },
  {
   "cell_type": "markdown",
   "metadata": {},
   "source": [
    "Ok, finally let's plot the simulated datset as a time series line plot, with `date` on the x axis, `employee_satisfaction` on the y axis, and use color to seperate satisfaction scores between the two companies. \n",
    "\n",
    "We can use [seaborn line plot](https://seaborn.pydata.org/generated/seaborn.lineplot.html) to do this easily. The [Seaborn](https://seaborn.pydata.org/) library is amazing. Seaborn plots generally accept a `data` argument (a pandas dataframe) and `x` and `y` arguments that are names of columns on the dataframe, plus a `hue` variable (also the name of a column in the dataframe) that allows you to seperate out the data."
   ]
  },
  {
   "cell_type": "code",
   "execution_count": 172,
   "metadata": {},
   "outputs": [
    {
     "data": {
      "text/plain": [
       "<Axes: xlabel='date', ylabel='satisfaction'>"
      ]
     },
     "execution_count": 172,
     "metadata": {},
     "output_type": "execute_result"
    },
    {
     "data": {
      "image/png": "[encoded data removed]",
      "text/plain": [
       "<Figure size 1000x200 with 1 Axes>"
      ]
     },
     "metadata": {},
     "output_type": "display_data"
    }
   ],
   "source": [
    "plt.figure(figsize=(10, 2)) # make the figure size wide (10) and shallow (2)\n",
    "\n",
    "sns.lineplot(data=df, x=\"date\", y=\"satisfaction\", hue=\"company\")"
   ]
  },
  {
   "cell_type": "markdown",
   "metadata": {},
   "source": [
    "The figure above should clearly indicate a change in employee satisfaction in the direction specified by the `remote_work_treatment_effect` variable at the date specified by the `remote_work_onset_date` variable. Does it work?  "
   ]
  },
  {
   "cell_type": "markdown",
   "metadata": {},
   "source": [
    "### Data Simulation Challenge 1: treatment effect\n",
    "Edit the code above to **change the treatment effect** (the impact of remote work). Change the relevant variable, re-reun the code blocks until the graph, and see how the time series changes. Try making the treatment effect:\n",
    "*   Stronger\n",
    "*   Weaker\n",
    "*   Negative\n",
    "*   Null (i.e. no effect)\n",
    "### Data Simulation Challenge 2: onset date\n",
    "Edit the code above to **change the onset of the treatment effect** (the impact of remote work). You can also explore the different timing intervals for the date window. Currently the code simulates weekly reporting (the `W` argument in the `daterange` function), but there [are other intervals you could use](https://pandas.pydata.org/pandas-docs/stable/user_guide/timeseries.html#timeseries-offset-aliases) if you would like to explore this.  \n"
   ]
  },
  {
   "cell_type": "markdown",
   "metadata": {},
   "source": [
    "## Analysing the Simulated Dataset\n",
    "Let's perform a Difference in Differences analysis on the simulated dataset. DiD analyses can be formulated as a simple regression model. We'll use the [statsmodels](https://www.statsmodels.org/stable/index.html) library, which let's you do regressions in python using the same formulae based api that is likely familiar to many people from R. "
   ]
  },
  {
   "cell_type": "code",
   "execution_count": 173,
   "metadata": {},
   "outputs": [],
   "source": [
    "import statsmodels.api as sm\n",
    "import statsmodels.formula.api as smf"
   ]
  },
  {
   "cell_type": "markdown",
   "metadata": {},
   "source": [
    "To perform the analyses, we need to create two binary variables. The first binary variable captures whether the datapoint is before (`0`) or after (`1`) the onset of the treatment. We can use the `remote_work_onset_date` variable to code this, utilizing the datetime functionality of the `date` column as follows:"
   ]
  },
  {
   "cell_type": "code",
   "execution_count": 174,
   "metadata": {},
   "outputs": [],
   "source": [
    "df['post_treatment'] = (df['date'] > remote_work_onset_date).astype(int)"
   ]
  },
  {
   "cell_type": "markdown",
   "metadata": {},
   "source": [
    "You might notice that this variable will be `1` even for rows of the dataset where the company is not `Giggle`. That's a little confusing, because only `Giggle` employees received the remote work option. However, it is critical that we have a variable in the model that captures the timepoint. \n",
    "\n",
    "The second binary variable will help us addresss the confusing part. The second binary variable captures whether the employee belongs to the company that offered remote work. Or in more generic terms, whether the row reflects the group that received the treatment (`1`) or not (`0`). "
   ]
  },
  {
   "cell_type": "code",
   "execution_count": 175,
   "metadata": {},
   "outputs": [],
   "source": [
    "# Create the treatment_group variable\n",
    "df['treatment_group'] = (df['company'] == 'Giggle').astype(int)"
   ]
  },
  {
   "cell_type": "code",
   "execution_count": 176,
   "metadata": {},
   "outputs": [
    {
     "data": {
      "text/html": [
       "<div>\n",
       "<style scoped>\n",
       "    .dataframe tbody tr th:only-of-type {\n",
       "        vertical-align: middle;\n",
       "    }\n",
       "\n",
       "    .dataframe tbody tr th {\n",
       "        vertical-align: top;\n",
       "    }\n",
       "\n",
       "    .dataframe thead th {\n",
       "        text-align: right;\n",
       "    }\n",
       "</style>\n",
       "<table border=\"1\" class=\"dataframe\">\n",
       "  <thead>\n",
       "    <tr style=\"text-align: right;\">\n",
       "      <th></th>\n",
       "      <th>date</th>\n",
       "      <th>company</th>\n",
       "      <th>satisfaction</th>\n",
       "      <th>employee_id</th>\n",
       "      <th>post_treatment</th>\n",
       "      <th>treatment_group</th>\n",
       "    </tr>\n",
       "  </thead>\n",
       "  <tbody>\n",
       "    <tr>\n",
       "      <th>1146</th>\n",
       "      <td>2022-06-05</td>\n",
       "      <td>Rubicon</td>\n",
       "      <td>6.717974</td>\n",
       "      <td>R46</td>\n",
       "      <td>0</td>\n",
       "      <td>0</td>\n",
       "    </tr>\n",
       "    <tr>\n",
       "      <th>6580</th>\n",
       "      <td>2022-07-03</td>\n",
       "      <td>Giggle</td>\n",
       "      <td>6.817238</td>\n",
       "      <td>G30</td>\n",
       "      <td>0</td>\n",
       "      <td>1</td>\n",
       "    </tr>\n",
       "    <tr>\n",
       "      <th>6907</th>\n",
       "      <td>2022-08-21</td>\n",
       "      <td>Giggle</td>\n",
       "      <td>7.391341</td>\n",
       "      <td>G7</td>\n",
       "      <td>0</td>\n",
       "      <td>1</td>\n",
       "    </tr>\n",
       "    <tr>\n",
       "      <th>7934</th>\n",
       "      <td>2023-01-08</td>\n",
       "      <td>Giggle</td>\n",
       "      <td>7.526306</td>\n",
       "      <td>G34</td>\n",
       "      <td>1</td>\n",
       "      <td>1</td>\n",
       "    </tr>\n",
       "    <tr>\n",
       "      <th>5584</th>\n",
       "      <td>2022-02-13</td>\n",
       "      <td>Giggle</td>\n",
       "      <td>5.019732</td>\n",
       "      <td>G34</td>\n",
       "      <td>0</td>\n",
       "      <td>1</td>\n",
       "    </tr>\n",
       "    <tr>\n",
       "      <th>4630</th>\n",
       "      <td>2023-10-08</td>\n",
       "      <td>Rubicon</td>\n",
       "      <td>5.816775</td>\n",
       "      <td>R30</td>\n",
       "      <td>1</td>\n",
       "      <td>0</td>\n",
       "    </tr>\n",
       "    <tr>\n",
       "      <th>10165</th>\n",
       "      <td>2023-11-19</td>\n",
       "      <td>Giggle</td>\n",
       "      <td>10.151138</td>\n",
       "      <td>G15</td>\n",
       "      <td>1</td>\n",
       "      <td>1</td>\n",
       "    </tr>\n",
       "    <tr>\n",
       "      <th>9768</th>\n",
       "      <td>2023-09-24</td>\n",
       "      <td>Giggle</td>\n",
       "      <td>8.003280</td>\n",
       "      <td>G18</td>\n",
       "      <td>1</td>\n",
       "      <td>1</td>\n",
       "    </tr>\n",
       "    <tr>\n",
       "      <th>1096</th>\n",
       "      <td>2022-05-29</td>\n",
       "      <td>Rubicon</td>\n",
       "      <td>4.540159</td>\n",
       "      <td>R46</td>\n",
       "      <td>0</td>\n",
       "      <td>0</td>\n",
       "    </tr>\n",
       "    <tr>\n",
       "      <th>7930</th>\n",
       "      <td>2023-01-08</td>\n",
       "      <td>Giggle</td>\n",
       "      <td>9.507349</td>\n",
       "      <td>G30</td>\n",
       "      <td>1</td>\n",
       "      <td>1</td>\n",
       "    </tr>\n",
       "  </tbody>\n",
       "</table>\n",
       "</div>"
      ],
      "text/plain": [
       "            date  company  satisfaction employee_id  post_treatment  \\\n",
       "1146  2022-06-05  Rubicon      6.717974         R46               0   \n",
       "6580  2022-07-03   Giggle      6.817238         G30               0   \n",
       "6907  2022-08-21   Giggle      7.391341          G7               0   \n",
       "7934  2023-01-08   Giggle      7.526306         G34               1   \n",
       "5584  2022-02-13   Giggle      5.019732         G34               0   \n",
       "4630  2023-10-08  Rubicon      5.816775         R30               1   \n",
       "10165 2023-11-19   Giggle     10.151138         G15               1   \n",
       "9768  2023-09-24   Giggle      8.003280         G18               1   \n",
       "1096  2022-05-29  Rubicon      4.540159         R46               0   \n",
       "7930  2023-01-08   Giggle      9.507349         G30               1   \n",
       "\n",
       "       treatment_group  \n",
       "1146                 0  \n",
       "6580                 1  \n",
       "6907                 1  \n",
       "7934                 1  \n",
       "5584                 1  \n",
       "4630                 0  \n",
       "10165                1  \n",
       "9768                 1  \n",
       "1096                 0  \n",
       "7930                 1  "
      ]
     },
     "execution_count": 176,
     "metadata": {},
     "output_type": "execute_result"
    }
   ],
   "source": [
    "df.sample(10)"
   ]
  },
  {
   "cell_type": "markdown",
   "metadata": {},
   "source": [
    "Finally, to express the DiD analysis as a regression, we need to create an interaction term to add to our regression model. Using a formula allows us to do this easily.\n",
    "\n",
    "Here's the regression model we will consider:\n",
    "\n",
    "*  Dependent variable (outcome): `satisfaction`\n",
    "*  Independent variable (predictor) 1: `post_treatment`\n",
    "*  Independent variable (predictor) 2: `treatment_group`\n",
    "*  Independent variable (predictor) 3: the **interaction** between `post_treatment` and `post_treatment`. The syntax for an interaction term is `post_treatment*treatment_group`.\n",
    "\n",
    "So our model formula is:"
   ]
  },
  {
   "cell_type": "code",
   "execution_count": 177,
   "metadata": {},
   "outputs": [],
   "source": [
    "formula = 'satisfaction ~ post_treatment + treatment_group + post_treatment*treatment_group'"
   ]
  },
  {
   "cell_type": "markdown",
   "metadata": {},
   "source": [
    "And now we can fit our model:"
   ]
  },
  {
   "cell_type": "code",
   "execution_count": 178,
   "metadata": {},
   "outputs": [],
   "source": [
    "model = smf.ols(formula, data=df).fit()"
   ]
  },
  {
   "cell_type": "markdown",
   "metadata": {},
   "source": [
    "We can inspect the results by printing the model summary, which will print a standard regression table (explained below)."
   ]
  },
  {
   "cell_type": "code",
   "execution_count": 179,
   "metadata": {},
   "outputs": [
    {
     "name": "stdout",
     "output_type": "stream",
     "text": [
      "                            OLS Regression Results                            \n",
      "==============================================================================\n",
      "Dep. Variable:           satisfaction   R-squared:                       0.579\n",
      "Model:                            OLS   Adj. R-squared:                  0.579\n",
      "Method:                 Least Squares   F-statistic:                     4816.\n",
      "Date:                Thu, 19 Sep 2024   Prob (F-statistic):               0.00\n",
      "Time:                        18:38:16   Log-Likelihood:                -14919.\n",
      "No. Observations:               10500   AIC:                         2.985e+04\n",
      "Df Residuals:                   10496   BIC:                         2.987e+04\n",
      "Df Model:                           3                                         \n",
      "Covariance Type:            nonrobust                                         \n",
      "==================================================================================================\n",
      "                                     coef    std err          t      P>|t|      [0.025      0.975]\n",
      "--------------------------------------------------------------------------------------------------\n",
      "Intercept                          5.2319      0.019    268.768      0.000       5.194       5.270\n",
      "post_treatment                    -0.0597      0.028     -2.159      0.031      -0.114      -0.005\n",
      "treatment_group                    0.8662      0.028     31.464      0.000       0.812       0.920\n",
      "post_treatment:treatment_group     2.0513      0.039     52.438      0.000       1.975       2.128\n",
      "==============================================================================\n",
      "Omnibus:                        0.014   Durbin-Watson:                   1.946\n",
      "Prob(Omnibus):                  0.993   Jarque-Bera (JB):                0.007\n",
      "Skew:                          -0.001   Prob(JB):                        0.996\n",
      "Kurtosis:                       3.004   Cond. No.                         6.83\n",
      "==============================================================================\n",
      "\n",
      "Notes:\n",
      "[1] Standard Errors assume that the covariance matrix of the errors is correctly specified.\n"
     ]
    }
   ],
   "source": [
    "print(model.summary())"
   ]
  },
  {
   "cell_type": "markdown",
   "metadata": {},
   "source": [
    "### Understanding the regression results\n",
    "\n",
    "To understand the results, we need to look at the coefficient estimates for the different terms in the model. \n",
    "\n",
    "The key variable is the interaction term `post_treatment*treatment_group`. You can see the coeficient estimate for this term in the `coef` column. Is it different than 0 (which would me it has no effect)? \n",
    "\n",
    "You can also look at the colum `P>|t|` to underestand the statistical significance. Supposing your alpha value for decidiing statistical statistical significance is `0.05`, you would look at the value in the `P>|t|` column and see if it is smaller than `0.05` on the relevant row. If you observe a regression coefficient estimate that is statistically significiantly different than zero, you can conclude that the variable has an effect on satisfaction.\n",
    "\n",
    "*  The results for the `treatment_group` variable tell you whether being in the group that received the treatment is assosciated with higher (positive coefficient estimate) or lower (negative coefficient estimate) satisfaction overall.\n",
    "*  The results for the `post_treatment` variable tell you whether being in the time period after the treatment is assosciated with higher (positive coefficient estimate) or lower (negative coefficient estimate) satisfaction overall.\n",
    "*  The results for the `post_treatment*treatment_group` interaction term criticially capture the effect of the treatment, because this term captures the variance that is unique to the scores that were generated by the group who received the treatment in the time period after the treatment. This tells you whether remote work is assosciated with higher (positive coefficient estimate) or lower (negative coefficient estimate) satisfaction.\n",
    "\n"
   ]
  },
  {
   "cell_type": "markdown",
   "metadata": {},
   "source": [
    "## Data Analysis Challenge 1: treatment effect\n",
    "Regenerate the dataset with **different levels of treatment effect** (the impact of remote work). Change the relevant variable, re-reun the data simulation and analysis, and examine whether the regression results accurately reflect the true effect size. Try making the treatment effect:\n",
    "*   Stronger\n",
    "*   Weaker\n",
    "*   Negative\n",
    "*   Null (i.e. no effect)\n",
    "\n",
    "Basically, do the same thing you did in data simulation challenge 1, but examine the consequences using regression results. \n",
    "\n",
    "## Data Analysis Challenge 2: baseline satisfaction levels\n",
    "Edit the **baseline levels of saisfaction** for the two companies. Regenreate the datset a few times with larger or smaller differences in average satisfaction (in the company profiles). Is the regression analysis able to pick up the true effect size of the treatment in a way that is robust to these differences? Can the regression accurately detect the underlying differences in average saistifaction? \n",
    "\n",
    "## Data Analysis **Bonus** Challenge: Explore additional variables\n",
    "Explore variations in the following variables. Your goal is to gain a sense for whether there are circumstances in which the regression analysis is better or worse at detecting the true underlying effect size of the remote work treatment. Explore variaitons in the following variables, generate the simulated datasets multiple times for each variable setting, and see how the regression results change.\n",
    "\n",
    "*  explore the consequences of varying the noise parameter used to sample satisfaction scores, relative to the underlying baseline average satisfaction scores\n",
    "*  explore the consequences of varying the onset time for the treatment (i.e. more recent onset)\n",
    "*  explore the consequences of simulating different numbers of employees for the two companies (i.e. `Giggle` has few employees in the dataset)\n"
   ]
  },
  {
   "cell_type": "code",
   "execution_count": null,
   "metadata": {},
   "outputs": [],
   "source": []
  },
  {
   "cell_type": "code",
   "execution_count": null,
   "metadata": {},
   "outputs": [],
   "source": []
  },
  {
   "cell_type": "code",
   "execution_count": null,
   "metadata": {},
   "outputs": [],
   "source": []
  }
 ],
 "metadata": {
  "colab": {
   "authorship_tag": "ABX9TyMjKKvsXWGfVMJTH0rE3JRo",
   "provenance": []
  },
  "kernelspec": {
   "display_name": "Python 3 (ipykernel)",
   "language": "python",
   "name": "python3"
  },
  "language_info": {
   "codemirror_mode": {
    "name": "ipython",
    "version": 3
   },
   "file_extension": ".py",
   "mimetype": "text/x-python",
   "name": "python",
   "nbconvert_exporter": "python",
   "pygments_lexer": "ipython3",
   "version": "3.12.5"
  }
 },
 "nbformat": 4,
 "nbformat_minor": 4
}
