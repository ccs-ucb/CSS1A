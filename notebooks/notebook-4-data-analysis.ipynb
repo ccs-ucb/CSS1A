{
 "cells": [
  {
   "cell_type": "markdown",
   "metadata": {},
   "source": [
    "<div style=\"background-color: #002676; padding: 20px;\">\n",
    "<img src=\"https://macss.berkeley.edu/wp-content/uploads/2023/09/UCBMaCSS_Logo_2Color_Reverse_TaglineB.png\" alt=\"MaCSS\" width=\"300\">\n",
    "</div>\n",
    "\n",
    "# **Notebook 4:** Data Analysis\n",
    "\n",
    "[wdtmacss@berkeley.edu](mailto:wdtmacss@berkeley.edu)\\\n",
    "**Computational Social Science 1A**\\\n",
    "[Human Psychology and Social Technologies](https://classes.berkeley.edu/content/2024-fall-compss-214a-001-lec-001) \n",
    "Fall 2024\\\n",
    "UC Berkeley [Masters in Computational Social Science](https://macss.berkeley.edu/about/)\n",
    "\n",
    "**Week 4:** Performing regressions and DiD analyses in Python.\n",
    "\n",
    "👩🏾‍🔬🧑‍💻👩🏻‍💻👨🏿‍💻🔬\n",
    "\n",
    "---\n",
    "\n",
    "# Table of Contents\n",
    "1. [Announcements](#announcements)\n",
    "2. [Summary of Today's Class](#summary-of-todays-class)\n",
    "3. [Data Simulation](#data-simulation)\n",
    "    - [Employee Satisfaction Parameters](#employee-satisfaction-parameters)\n",
    "    - [Time Window Parameters](#time-window-parameters)\n",
    "    - [Treatment Effect Parameters](#treatment-effect-parameters)\n",
    "    - [Simulation Loop](#simulation-loop)\n",
    "4. [Data Analysis](#data-analysis)\n",
    "    - [Regressions in Python: Some Basics](#regressions-in-python-some-basics)\n",
    "    - [Outcome Variable: Employee Satisfaction](#outcome-variable-employee-satisfaction)\n",
    "    - [Categorical Predictor: Company](#categorical-predictor-company)\n",
    "    - [Continuous Predictor: Time at Company](#continuous-predictor-time-at-company)\n",
    "    - [Multiple Predictors](#multiple-predictors)\n",
    "    - [Difference in Differences Analysis](#difference-in-differences-analysis)\n",
    "        - [Dummy Variables](#dummy-variables)\n",
    "        - [Interaction Term](#interaction-term)\n",
    "5. [Data Analysis Challenge 1: Treatment Effect](#data-analysis-challenge-1-treatment-effect)\n",
    "6. [Data Analysis Challenge 2: Baseline Satisfaction Levels](#data-analysis-challenge-2-baseline-satisfaction-levels)\n",
    "7. [Assignment Two](#assignment-two)\n",
    "\n",
    "\n",
    "---"
   ]
  },
  {
   "cell_type": "markdown",
   "metadata": {},
   "source": [
    "# Announcments\n",
    "*  **Class structure updates**\n",
    "    * Only two weeks remaining:\n",
    "        * previous plan to do a second big dataset seems too rushed now;\n",
    "        * unfair to request a DiD Twitter analysis assignment this week\n",
    "    * New schedule structure: focus **entirely on the Twitter dataset**\n",
    "    * New assignment structure:\n",
    "        * the twitter analysis is now your **class project**, due at the end of the class\n",
    "        * we'll have a **scaffolding assignment** before then, on data simulation and analysis of the simulated dataset, designed to really prepare you for DiD analysis before your class project\n",
    "* **Updated Schedule**:\n",
    "  * today (data analysis practical session: regression & DiD)\n",
    "  * next week: scaffolding asignment due (Thursday), class project lab 1 (friday)\n",
    "  * final week: class project lab 2, plus class discussion of social media perspective papers, farewell cupcackes 🧁🧁\n",
    "* These updates are captured in the [updated class syllabus](https://bcourses.berkeley.edu/courses/1538139/files/89784577?wrap=1)\n",
    "*  Questions?"
   ]
  },
  {
   "cell_type": "markdown",
   "metadata": {},
   "source": [
    "# Summary of Today's Class\n",
    "The goal today is to build confidence around basic aspects of regression analysis in python, and to develop and understanding of and capacity to implement DiD analysis using regression.  \n",
    "\n",
    "**Today we will:** \n",
    "*  Simulate data using the code we developed last week\n",
    "*  Perform regression analyses on the simulated data\n",
    "*  Perform DiD analyses on the simulated data\n",
    "  "
   ]
  },
  {
   "cell_type": "markdown",
   "metadata": {},
   "source": [
    "# Data Simulation\n",
    "Below we will simulate a dataset using the code we developed last week. See `notebook-3-data-simulation.ipynb` for more information on the simulation process and its motivations."
   ]
  },
  {
   "cell_type": "code",
   "execution_count": 6,
   "metadata": {
    "id": "KIyW-dRvclsG"
   },
   "outputs": [],
   "source": [
    "import pandas as pd\n",
    "import numpy as np\n",
    "import matplotlib.pyplot as plt\n",
    "import seaborn as sns"
   ]
  },
  {
   "cell_type": "markdown",
   "metadata": {},
   "source": [
    "## Employee Satisfaction Parameters"
   ]
  },
  {
   "cell_type": "code",
   "execution_count": 7,
   "metadata": {},
   "outputs": [],
   "source": [
    "# Mean employee_satisfaction levels for both companies\n",
    "company_profiles = {\n",
    "    \"Rubicon\": {\n",
    "        \"employee_satisfaction\": 5.2 # satisfaction on a scale of 1 to 10\n",
    "    },\n",
    "    \"Giggle\": {\n",
    "        \"employee_satisfaction\": 6.1 # satisfaction on a scale of 1 to 10\n",
    "    },\n",
    "}\n",
    "\n",
    "# number of  employees we will simulate per company in our simulated dataset\n",
    "num_employees_per_company = 50\n",
    "\n",
    "# We will add noise to the employee_satisfaction means when simulating data\n",
    "# A larger number here means more noise\n",
    "satisfaction_variance = 1 "
   ]
  },
  {
   "cell_type": "markdown",
   "metadata": {},
   "source": [
    "## Time window parameters"
   ]
  },
  {
   "cell_type": "code",
   "execution_count": 8,
   "metadata": {},
   "outputs": [],
   "source": [
    "# Define a data collection time window\n",
    "data_collection_start_date = pd.to_datetime(\"2022-01-01\")\n",
    "data_collection_end_date = pd.to_datetime(\"2023-12-31\")\n",
    "\n",
    "# Create an array of dates on which to simulate collection of satisfaction data\n",
    "dates = pd.date_range(\n",
    "    start=data_collection_start_date, \n",
    "    end=data_collection_end_date, \n",
    "    freq='W' # weekly intervals between start and end\n",
    ")"
   ]
  },
  {
   "cell_type": "markdown",
   "metadata": {},
   "source": [
    "## Treatment effect parameters"
   ]
  },
  {
   "cell_type": "code",
   "execution_count": 9,
   "metadata": {},
   "outputs": [],
   "source": [
    "remote_work_onset_date = pd.to_datetime(\"2023-01-01\")\n",
    "remote_work_treatment_effect = 2"
   ]
  },
  {
   "cell_type": "markdown",
   "metadata": {},
   "source": [
    "## Simulation loop"
   ]
  },
  {
   "cell_type": "code",
   "execution_count": 10,
   "metadata": {},
   "outputs": [],
   "source": [
    "def simulate_data():\n",
    "    data = []    \n",
    "    for company, profile in company_profiles.items():\n",
    "        for date in dates:\n",
    "            time_at_company = (date - data_collection_start_date).days # this is new\n",
    "            for i in range(num_employees_per_company):\n",
    "                satisfaction = np.random.normal(profile[\"employee_satisfaction\"], satisfaction_variance)\n",
    "\n",
    "                # treatment effect\n",
    "                if date > remote_work_onset_date:\n",
    "                    if company == \"Giggle\":\n",
    "                        satisfaction += remote_work_treatment_effect \n",
    "                \n",
    "                datapoint = {\n",
    "                    \"date\": date, \n",
    "                    \"company\": company,\n",
    "                    \"satisfaction\": satisfaction,\n",
    "                    \"employee_id\": f\"{company[0]}{i}\", # create a fake employee id by combining the company name initial letter and the loop index variable\n",
    "                    \"time_at_company\": time_at_company\n",
    "                } \n",
    "                data.append(datapoint)\n",
    "    return pd.DataFrame(data)"
   ]
  },
  {
   "cell_type": "code",
   "execution_count": 11,
   "metadata": {},
   "outputs": [],
   "source": [
    "# simulate the data\n",
    "df = simulate_data()"
   ]
  },
  {
   "cell_type": "code",
   "execution_count": 12,
   "metadata": {},
   "outputs": [
    {
     "data": {
      "text/html": [
       "<div>\n",
       "<style scoped>\n",
       "    .dataframe tbody tr th:only-of-type {\n",
       "        vertical-align: middle;\n",
       "    }\n",
       "\n",
       "    .dataframe tbody tr th {\n",
       "        vertical-align: top;\n",
       "    }\n",
       "\n",
       "    .dataframe thead th {\n",
       "        text-align: right;\n",
       "    }\n",
       "</style>\n",
       "<table border=\"1\" class=\"dataframe\">\n",
       "  <thead>\n",
       "    <tr style=\"text-align: right;\">\n",
       "      <th></th>\n",
       "      <th>date</th>\n",
       "      <th>company</th>\n",
       "      <th>satisfaction</th>\n",
       "      <th>employee_id</th>\n",
       "      <th>time_at_company</th>\n",
       "    </tr>\n",
       "  </thead>\n",
       "  <tbody>\n",
       "    <tr>\n",
       "      <th>4242</th>\n",
       "      <td>2023-08-13</td>\n",
       "      <td>Rubicon</td>\n",
       "      <td>5.807492</td>\n",
       "      <td>R42</td>\n",
       "      <td>589</td>\n",
       "    </tr>\n",
       "    <tr>\n",
       "      <th>3052</th>\n",
       "      <td>2023-03-05</td>\n",
       "      <td>Rubicon</td>\n",
       "      <td>3.653969</td>\n",
       "      <td>R2</td>\n",
       "      <td>428</td>\n",
       "    </tr>\n",
       "    <tr>\n",
       "      <th>5059</th>\n",
       "      <td>2023-12-10</td>\n",
       "      <td>Rubicon</td>\n",
       "      <td>4.342371</td>\n",
       "      <td>R9</td>\n",
       "      <td>708</td>\n",
       "    </tr>\n",
       "    <tr>\n",
       "      <th>5689</th>\n",
       "      <td>2022-02-27</td>\n",
       "      <td>Giggle</td>\n",
       "      <td>5.146953</td>\n",
       "      <td>G39</td>\n",
       "      <td>57</td>\n",
       "    </tr>\n",
       "    <tr>\n",
       "      <th>7302</th>\n",
       "      <td>2022-10-16</td>\n",
       "      <td>Giggle</td>\n",
       "      <td>6.215757</td>\n",
       "      <td>G2</td>\n",
       "      <td>288</td>\n",
       "    </tr>\n",
       "    <tr>\n",
       "      <th>3086</th>\n",
       "      <td>2023-03-05</td>\n",
       "      <td>Rubicon</td>\n",
       "      <td>6.982606</td>\n",
       "      <td>R36</td>\n",
       "      <td>428</td>\n",
       "    </tr>\n",
       "    <tr>\n",
       "      <th>3116</th>\n",
       "      <td>2023-03-12</td>\n",
       "      <td>Rubicon</td>\n",
       "      <td>5.988615</td>\n",
       "      <td>R16</td>\n",
       "      <td>435</td>\n",
       "    </tr>\n",
       "    <tr>\n",
       "      <th>4637</th>\n",
       "      <td>2023-10-08</td>\n",
       "      <td>Rubicon</td>\n",
       "      <td>4.467920</td>\n",
       "      <td>R37</td>\n",
       "      <td>645</td>\n",
       "    </tr>\n",
       "    <tr>\n",
       "      <th>8998</th>\n",
       "      <td>2023-06-04</td>\n",
       "      <td>Giggle</td>\n",
       "      <td>8.030254</td>\n",
       "      <td>G48</td>\n",
       "      <td>519</td>\n",
       "    </tr>\n",
       "    <tr>\n",
       "      <th>8851</th>\n",
       "      <td>2023-05-21</td>\n",
       "      <td>Giggle</td>\n",
       "      <td>7.959903</td>\n",
       "      <td>G1</td>\n",
       "      <td>505</td>\n",
       "    </tr>\n",
       "  </tbody>\n",
       "</table>\n",
       "</div>"
      ],
      "text/plain": [
       "           date  company  satisfaction employee_id  time_at_company\n",
       "4242 2023-08-13  Rubicon      5.807492         R42              589\n",
       "3052 2023-03-05  Rubicon      3.653969          R2              428\n",
       "5059 2023-12-10  Rubicon      4.342371          R9              708\n",
       "5689 2022-02-27   Giggle      5.146953         G39               57\n",
       "7302 2022-10-16   Giggle      6.215757          G2              288\n",
       "3086 2023-03-05  Rubicon      6.982606         R36              428\n",
       "3116 2023-03-12  Rubicon      5.988615         R16              435\n",
       "4637 2023-10-08  Rubicon      4.467920         R37              645\n",
       "8998 2023-06-04   Giggle      8.030254         G48              519\n",
       "8851 2023-05-21   Giggle      7.959903          G1              505"
      ]
     },
     "execution_count": 12,
     "metadata": {},
     "output_type": "execute_result"
    }
   ],
   "source": [
    "df.sample(n=10)"
   ]
  },
  {
   "cell_type": "markdown",
   "metadata": {},
   "source": [
    "# Data Analysis"
   ]
  },
  {
   "cell_type": "markdown",
   "metadata": {},
   "source": [
    "## Regressions in Python: some basics\n",
    "We'll use the [statsmodels](https://www.statsmodels.org/stable/index.html) library to analyze regression models. Statsmodels is nicer than alternatives because it let's you do regressions in python using the same formulae-based approach that is common in R packes such as `lmer`. "
   ]
  },
  {
   "cell_type": "code",
   "execution_count": 13,
   "metadata": {},
   "outputs": [],
   "source": [
    "import statsmodels.api as sm\n",
    "import statsmodels.formula.api as smf"
   ]
  },
  {
   "cell_type": "markdown",
   "metadata": {},
   "source": [
    "### Outcome variable: employee satisfaction\n",
    "We're going to try to predict `satisfaction`."
   ]
  },
  {
   "cell_type": "markdown",
   "metadata": {},
   "source": [
    "### Categorical predictor: company\n",
    "First, let's try to predict `satisfaction` from `company`. \n",
    "\n",
    "We will express our model using a formula. The structure of the formula is: `dependent variable ~ independent variable`. Here, the tilde sign `~` seperates the outcome (dependent variable, left hand side -- the thing we are trying to predict) from the predictors (independent variable, right hand side). \n",
    "\n",
    "In concrete terms, we're trying answer the question: **did employees at the two different companies have different levels of satisfaction?** Since we generated the data ourselves, we know the true answer! \n",
    "\n",
    "For this analysis, our formula is:"
   ]
  },
  {
   "cell_type": "code",
   "execution_count": 14,
   "metadata": {},
   "outputs": [],
   "source": [
    "regression_formula = 'satisfaction ~ company'"
   ]
  },
  {
   "cell_type": "markdown",
   "metadata": {},
   "source": [
    "We create our model by passing our datset and the formular to statmodels as follows:"
   ]
  },
  {
   "cell_type": "code",
   "execution_count": 15,
   "metadata": {},
   "outputs": [],
   "source": [
    "model = smf.ols(regression_formula, data=df)"
   ]
  },
  {
   "cell_type": "markdown",
   "metadata": {},
   "source": [
    "Now that the model is specified, we can *fit* the model to the data as follows:"
   ]
  },
  {
   "cell_type": "code",
   "execution_count": 16,
   "metadata": {},
   "outputs": [],
   "source": [
    "results = model.fit()"
   ]
  },
  {
   "cell_type": "markdown",
   "metadata": {},
   "source": [
    "Let's look at the results. I will explain the table in cells below."
   ]
  },
  {
   "cell_type": "code",
   "execution_count": 17,
   "metadata": {},
   "outputs": [
    {
     "name": "stdout",
     "output_type": "stream",
     "text": [
      "                            OLS Regression Results                            \n",
      "==============================================================================\n",
      "Dep. Variable:           satisfaction   R-squared:                       0.379\n",
      "Model:                            OLS   Adj. R-squared:                  0.379\n",
      "Method:                 Least Squares   F-statistic:                     6396.\n",
      "Date:                Thu, 26 Sep 2024   Prob (F-statistic):               0.00\n",
      "Time:                        19:38:39   Log-Likelihood:                -16957.\n",
      "No. Observations:               10500   AIC:                         3.392e+04\n",
      "Df Residuals:                   10498   BIC:                         3.393e+04\n",
      "Df Model:                           1                                         \n",
      "Covariance Type:            nonrobust                                         \n",
      "======================================================================================\n",
      "                         coef    std err          t      P>|t|      [0.025      0.975]\n",
      "--------------------------------------------------------------------------------------\n",
      "Intercept              7.0933      0.017    422.448      0.000       7.060       7.126\n",
      "company[T.Rubicon]    -1.8990      0.024    -79.972      0.000      -1.946      -1.852\n",
      "==============================================================================\n",
      "Omnibus:                       15.268   Durbin-Watson:                   1.354\n",
      "Prob(Omnibus):                  0.000   Jarque-Bera (JB):               12.948\n",
      "Skew:                          -0.006   Prob(JB):                      0.00154\n",
      "Kurtosis:                       2.828   Cond. No.                         2.62\n",
      "==============================================================================\n",
      "\n",
      "Notes:\n",
      "[1] Standard Errors assume that the covariance matrix of the errors is correctly specified.\n"
     ]
    }
   ],
   "source": [
    "print(results.summary())"
   ]
  },
  {
   "cell_type": "markdown",
   "metadata": {},
   "source": [
    "### Interpreting the results table 👀\n",
    "How does this table help us answer the question? The key section is the middle row, which shows *coefficient estimates* and assosciated statistics. \n",
    "\n",
    "#### Coeficient estimates\n",
    "Here the relevant coeficient estimate is the coeficient for `company`. Recall that the basic purpose of a regression analysis is to estimate the coeficients $w_i$ in an equation of the form:\n",
    "$$y = x_1 w_1, \\ldots, x_n w_n$$\n",
    "where $x_1,\\ldots,x_n$ are predictor variables and $y$ is the outcome variable.  \n",
    "\n",
    "When we look at the table above, the coefficient estimates are giving us the model's best guess at the $w_i$ terms. So:\n",
    "\n",
    "*  If the coeficient estaimte for the relevant variable (`company`) is zero, that would tell us that this variable is not predictive of the outcome variable (`satisfaction`), because zero multiplied by anything is equal to zero and therefore **the predictor doesn't influence the outcome** $y$ (here `satisfaction`).\n",
    "*  If the **coeficient estimate is positive**, that would tell us that the company variable had a positive effect on the outcome variable (i.e. increased `satisfaction`)\n",
    "    *  **Note**: in the case of binary categorical predictors (`Giggle` vs `Rubicon`), there is generally assumed to be one *reference* class, and the coeficient tells us about the effect of the other class.\n",
    "    *  Here, the reference class is `Giggle`, and the coeficient tells us about the effect of `Rubicon`. We can see that because the `company` variable in the table states `[T.Rubicon]`\n",
    "*  If the **coeficient estimate was negative**, we would conclude that the variable had a negative impact relative the the reference class, i.e. working at `Rubicon` is assosciated with a decrease in employee satisfaction relative to `Giggle`.\n",
    "\n",
    "#### Statistical Significance\n",
    "You can also look at the colum `P>|t|` to underestand the statistical significance. \n",
    "\n",
    "If your alpha value for decidiing statistical statistical significance is `0.05`, you would look at the value in the `P>|t|` column and see if it is **smaller than `0.05`** on the relevant row. If you observe a regression coefficient estimate that is statistically significiantly different than zero, you can conclude that the variable has an effect on `satisfaction` in this dataset. The direction of the effect is given by the sign of the coefficient estimate (`-` or `+`). The magnitude of the effect is a complicated quantity, but is related to the absolute value of the coefficient estimate.\n",
    "\n",
    "**What does the results table above indicate?**"
   ]
  },
  {
   "cell_type": "markdown",
   "metadata": {},
   "source": [
    "### Continuous predictor\n",
    "Let's look at a continuous predictor variable: `time_at_company`. Here, we're actually looking at a **spurious** predicter variable! We know that `time_at_company` is not itself directly causally related to `satisfaction` in a simple way, because we created the data!  "
   ]
  },
  {
   "cell_type": "code",
   "execution_count": 18,
   "metadata": {},
   "outputs": [],
   "source": [
    "regression_formula = 'satisfaction ~ time_at_company'"
   ]
  },
  {
   "cell_type": "code",
   "execution_count": 19,
   "metadata": {},
   "outputs": [
    {
     "name": "stdout",
     "output_type": "stream",
     "text": [
      "                            OLS Regression Results                            \n",
      "==============================================================================\n",
      "Dep. Variable:           satisfaction   R-squared:                       0.072\n",
      "Model:                            OLS   Adj. R-squared:                  0.072\n",
      "Method:                 Least Squares   F-statistic:                     816.5\n",
      "Date:                Thu, 26 Sep 2024   Prob (F-statistic):          5.20e-173\n",
      "Time:                        19:38:39   Log-Likelihood:                -19061.\n",
      "No. Observations:               10500   AIC:                         3.813e+04\n",
      "Df Residuals:                   10498   BIC:                         3.814e+04\n",
      "Df Model:                           1                                         \n",
      "Covariance Type:            nonrobust                                         \n",
      "===================================================================================\n",
      "                      coef    std err          t      P>|t|      [0.025      0.975]\n",
      "-----------------------------------------------------------------------------------\n",
      "Intercept           5.4306      0.029    188.114      0.000       5.374       5.487\n",
      "time_at_company     0.0020   6.84e-05     28.575      0.000       0.002       0.002\n",
      "==============================================================================\n",
      "Omnibus:                       89.295   Durbin-Watson:                   0.907\n",
      "Prob(Omnibus):                  0.000   Jarque-Bera (JB):               63.704\n",
      "Skew:                           0.077   Prob(JB):                     1.47e-14\n",
      "Kurtosis:                       2.650   Cond. No.                         840.\n",
      "==============================================================================\n",
      "\n",
      "Notes:\n",
      "[1] Standard Errors assume that the covariance matrix of the errors is correctly specified.\n"
     ]
    }
   ],
   "source": [
    "model = smf.ols(regression_formula, data=df)\n",
    "results = model.fit()\n",
    "print(results.summary())"
   ]
  },
  {
   "cell_type": "markdown",
   "metadata": {},
   "source": [
    "**What do these results indicate?** Does the regression suggest an effect of `time_at_company` on `satisfaction`? If so, why?"
   ]
  },
  {
   "cell_type": "markdown",
   "metadata": {},
   "source": [
    "### Mulitple predictors\n",
    "You can include multiple predictors in the model using the formula syntax: `dependent_variable ~ indepdent_variable_1 + independent_variable_2 + ...`."
   ]
  },
  {
   "cell_type": "code",
   "execution_count": 20,
   "metadata": {},
   "outputs": [],
   "source": [
    "regression_formula = 'satisfaction ~ company + time_at_company'"
   ]
  },
  {
   "cell_type": "code",
   "execution_count": 21,
   "metadata": {},
   "outputs": [
    {
     "name": "stdout",
     "output_type": "stream",
     "text": [
      "                            OLS Regression Results                            \n",
      "==============================================================================\n",
      "Dep. Variable:           satisfaction   R-squared:                       0.451\n",
      "Model:                            OLS   Adj. R-squared:                  0.451\n",
      "Method:                 Least Squares   F-statistic:                     4307.\n",
      "Date:                Thu, 26 Sep 2024   Prob (F-statistic):               0.00\n",
      "Time:                        19:38:39   Log-Likelihood:                -16309.\n",
      "No. Observations:               10500   AIC:                         3.262e+04\n",
      "Df Residuals:                   10497   BIC:                         3.264e+04\n",
      "Df Model:                           2                                         \n",
      "Covariance Type:            nonrobust                                         \n",
      "======================================================================================\n",
      "                         coef    std err          t      P>|t|      [0.025      0.975]\n",
      "--------------------------------------------------------------------------------------\n",
      "Intercept              6.3801      0.025    256.644      0.000       6.331       6.429\n",
      "company[T.Rubicon]    -1.8990      0.022    -85.060      0.000      -1.943      -1.855\n",
      "time_at_company        0.0020   5.26e-05     37.137      0.000       0.002       0.002\n",
      "==============================================================================\n",
      "Omnibus:                       12.760   Durbin-Watson:                   1.532\n",
      "Prob(Omnibus):                  0.002   Jarque-Bera (JB):               11.034\n",
      "Skew:                          -0.011   Prob(JB):                      0.00402\n",
      "Kurtosis:                       2.843   Cond. No.                     1.08e+03\n",
      "==============================================================================\n",
      "\n",
      "Notes:\n",
      "[1] Standard Errors assume that the covariance matrix of the errors is correctly specified.\n",
      "[2] The condition number is large, 1.08e+03. This might indicate that there are\n",
      "strong multicollinearity or other numerical problems.\n"
     ]
    }
   ],
   "source": [
    "model = smf.ols(regression_formula, data=df)\n",
    "results = model.fit()\n",
    "print(results.summary())"
   ]
  },
  {
   "cell_type": "markdown",
   "metadata": {},
   "source": [
    "**What do these results indicate?** The results of these analyses can be a little unsatisfying or even misleading. This is because the true process that generated the data involves the onset of remote work in our simulation, and this variable has not been included so far. In the next section, we will see how you can isolate the effects of the remote work intervention through the inclusion of an interaction term in the model, implementing a Difference in Differences analysis."
   ]
  },
  {
   "cell_type": "markdown",
   "metadata": {},
   "source": [
    "## Difference in Differences Analysis"
   ]
  },
  {
   "cell_type": "markdown",
   "metadata": {},
   "source": [
    "### Dummy variables\n",
    "\n",
    "To perform a Difference in Differences analyses that accounts for the onset of a treatment that was applied to one group but not the other, we need to create two binary variables. \n",
    "\n",
    "The first binary variable captures **whether the datapoint is before (`0`) or after (`1`) the onset of the treatment**. We can use the `remote_work_onset_date` variable to code this, utilizing the datetime functionality of the `date` column as follows:"
   ]
  },
  {
   "cell_type": "code",
   "execution_count": 22,
   "metadata": {},
   "outputs": [],
   "source": [
    "df['post_treatment'] = (df['date'] > remote_work_onset_date).astype(int)"
   ]
  },
  {
   "cell_type": "markdown",
   "metadata": {},
   "source": [
    "The second binary variable captures **whether the employee belongs to the company that offered remote work**. Or in more generic terms, whether the row reflects the group that received the treatment (`1`) or not (`0`). "
   ]
  },
  {
   "cell_type": "code",
   "execution_count": 23,
   "metadata": {},
   "outputs": [],
   "source": [
    "# Create the treatment_group variable\n",
    "df['treatment_group'] = (df['company'] == 'Giggle').astype(int)"
   ]
  },
  {
   "cell_type": "code",
   "execution_count": 24,
   "metadata": {},
   "outputs": [
    {
     "data": {
      "text/html": [
       "<div>\n",
       "<style scoped>\n",
       "    .dataframe tbody tr th:only-of-type {\n",
       "        vertical-align: middle;\n",
       "    }\n",
       "\n",
       "    .dataframe tbody tr th {\n",
       "        vertical-align: top;\n",
       "    }\n",
       "\n",
       "    .dataframe thead th {\n",
       "        text-align: right;\n",
       "    }\n",
       "</style>\n",
       "<table border=\"1\" class=\"dataframe\">\n",
       "  <thead>\n",
       "    <tr style=\"text-align: right;\">\n",
       "      <th></th>\n",
       "      <th>date</th>\n",
       "      <th>company</th>\n",
       "      <th>satisfaction</th>\n",
       "      <th>employee_id</th>\n",
       "      <th>time_at_company</th>\n",
       "      <th>post_treatment</th>\n",
       "      <th>treatment_group</th>\n",
       "    </tr>\n",
       "  </thead>\n",
       "  <tbody>\n",
       "    <tr>\n",
       "      <th>7952</th>\n",
       "      <td>2023-01-15</td>\n",
       "      <td>Giggle</td>\n",
       "      <td>7.268299</td>\n",
       "      <td>G2</td>\n",
       "      <td>379</td>\n",
       "      <td>1</td>\n",
       "      <td>1</td>\n",
       "    </tr>\n",
       "    <tr>\n",
       "      <th>6848</th>\n",
       "      <td>2022-08-07</td>\n",
       "      <td>Giggle</td>\n",
       "      <td>5.926214</td>\n",
       "      <td>G48</td>\n",
       "      <td>218</td>\n",
       "      <td>0</td>\n",
       "      <td>1</td>\n",
       "    </tr>\n",
       "    <tr>\n",
       "      <th>4582</th>\n",
       "      <td>2023-10-01</td>\n",
       "      <td>Rubicon</td>\n",
       "      <td>6.838046</td>\n",
       "      <td>R32</td>\n",
       "      <td>638</td>\n",
       "      <td>1</td>\n",
       "      <td>0</td>\n",
       "    </tr>\n",
       "    <tr>\n",
       "      <th>2812</th>\n",
       "      <td>2023-01-29</td>\n",
       "      <td>Rubicon</td>\n",
       "      <td>5.244108</td>\n",
       "      <td>R12</td>\n",
       "      <td>393</td>\n",
       "      <td>1</td>\n",
       "      <td>0</td>\n",
       "    </tr>\n",
       "    <tr>\n",
       "      <th>51</th>\n",
       "      <td>2022-01-09</td>\n",
       "      <td>Rubicon</td>\n",
       "      <td>5.750233</td>\n",
       "      <td>R1</td>\n",
       "      <td>8</td>\n",
       "      <td>0</td>\n",
       "      <td>0</td>\n",
       "    </tr>\n",
       "    <tr>\n",
       "      <th>9539</th>\n",
       "      <td>2023-08-20</td>\n",
       "      <td>Giggle</td>\n",
       "      <td>8.138399</td>\n",
       "      <td>G39</td>\n",
       "      <td>596</td>\n",
       "      <td>1</td>\n",
       "      <td>1</td>\n",
       "    </tr>\n",
       "    <tr>\n",
       "      <th>7510</th>\n",
       "      <td>2022-11-13</td>\n",
       "      <td>Giggle</td>\n",
       "      <td>7.116959</td>\n",
       "      <td>G10</td>\n",
       "      <td>316</td>\n",
       "      <td>0</td>\n",
       "      <td>1</td>\n",
       "    </tr>\n",
       "    <tr>\n",
       "      <th>3836</th>\n",
       "      <td>2023-06-18</td>\n",
       "      <td>Rubicon</td>\n",
       "      <td>4.780758</td>\n",
       "      <td>R36</td>\n",
       "      <td>533</td>\n",
       "      <td>1</td>\n",
       "      <td>0</td>\n",
       "    </tr>\n",
       "    <tr>\n",
       "      <th>256</th>\n",
       "      <td>2022-02-06</td>\n",
       "      <td>Rubicon</td>\n",
       "      <td>3.868881</td>\n",
       "      <td>R6</td>\n",
       "      <td>36</td>\n",
       "      <td>0</td>\n",
       "      <td>0</td>\n",
       "    </tr>\n",
       "    <tr>\n",
       "      <th>7605</th>\n",
       "      <td>2022-11-27</td>\n",
       "      <td>Giggle</td>\n",
       "      <td>6.037988</td>\n",
       "      <td>G5</td>\n",
       "      <td>330</td>\n",
       "      <td>0</td>\n",
       "      <td>1</td>\n",
       "    </tr>\n",
       "  </tbody>\n",
       "</table>\n",
       "</div>"
      ],
      "text/plain": [
       "           date  company  satisfaction employee_id  time_at_company  \\\n",
       "7952 2023-01-15   Giggle      7.268299          G2              379   \n",
       "6848 2022-08-07   Giggle      5.926214         G48              218   \n",
       "4582 2023-10-01  Rubicon      6.838046         R32              638   \n",
       "2812 2023-01-29  Rubicon      5.244108         R12              393   \n",
       "51   2022-01-09  Rubicon      5.750233          R1                8   \n",
       "9539 2023-08-20   Giggle      8.138399         G39              596   \n",
       "7510 2022-11-13   Giggle      7.116959         G10              316   \n",
       "3836 2023-06-18  Rubicon      4.780758         R36              533   \n",
       "256  2022-02-06  Rubicon      3.868881          R6               36   \n",
       "7605 2022-11-27   Giggle      6.037988          G5              330   \n",
       "\n",
       "      post_treatment  treatment_group  \n",
       "7952               1                1  \n",
       "6848               0                1  \n",
       "4582               1                0  \n",
       "2812               1                0  \n",
       "51                 0                0  \n",
       "9539               1                1  \n",
       "7510               0                1  \n",
       "3836               1                0  \n",
       "256                0                0  \n",
       "7605               0                1  "
      ]
     },
     "execution_count": 24,
     "metadata": {},
     "output_type": "execute_result"
    }
   ],
   "source": [
    "df.sample(10)"
   ]
  },
  {
   "cell_type": "markdown",
   "metadata": {},
   "source": [
    "Together, these two variables can be combined to isolate the effect of the treatment, by incoroporating their *interaction* in the model."
   ]
  },
  {
   "cell_type": "markdown",
   "metadata": {},
   "source": [
    "### Interaction Term\n",
    "Finally, we need to create an interaction term to add to our regression model. An interaction just means that two variables are *multiplied* together. In the case of two binary variables, this means that the resulting product is `1` only if both variables are `1`, and `0` otherwise. \n",
    "\n",
    "Here's the regression model we will consider:\n",
    "\n",
    "*  Dependent variable (outcome): `satisfaction`\n",
    "*  Independent variable (predictor) 1: `post_treatment`\n",
    "*  Independent variable (predictor) 2: `treatment_group`\n",
    "*  Independent variable (predictor) 3: the **interaction** between `post_treatment` and `treatment_group`. The syntax for an interaction term is `post_treatment*treatment_group`.\n",
    "\n",
    "**Why does the interaction term capture the treatment effect?** Because only the group who received the treatment (remote work) will be coded as `1` under the interaction term.  \n",
    "\n",
    "So our model formula is:"
   ]
  },
  {
   "cell_type": "code",
   "execution_count": 25,
   "metadata": {},
   "outputs": [],
   "source": [
    "formula = 'satisfaction ~ post_treatment + treatment_group + post_treatment*treatment_group'"
   ]
  },
  {
   "cell_type": "markdown",
   "metadata": {},
   "source": [
    "And now we can fit our model:"
   ]
  },
  {
   "cell_type": "code",
   "execution_count": 26,
   "metadata": {},
   "outputs": [
    {
     "name": "stdout",
     "output_type": "stream",
     "text": [
      "                            OLS Regression Results                            \n",
      "==============================================================================\n",
      "Dep. Variable:           satisfaction   R-squared:                       0.579\n",
      "Model:                            OLS   Adj. R-squared:                  0.579\n",
      "Method:                 Least Squares   F-statistic:                     4819.\n",
      "Date:                Thu, 26 Sep 2024   Prob (F-statistic):               0.00\n",
      "Time:                        19:38:40   Log-Likelihood:                -14908.\n",
      "No. Observations:               10500   AIC:                         2.982e+04\n",
      "Df Residuals:                   10496   BIC:                         2.985e+04\n",
      "Df Model:                           3                                         \n",
      "Covariance Type:            nonrobust                                         \n",
      "==================================================================================================\n",
      "                                     coef    std err          t      P>|t|      [0.025      0.975]\n",
      "--------------------------------------------------------------------------------------------------\n",
      "Intercept                          5.2199      0.019    268.423      0.000       5.182       5.258\n",
      "post_treatment                    -0.0517      0.028     -1.872      0.061      -0.106       0.002\n",
      "treatment_group                    0.9051      0.028     32.912      0.000       0.851       0.959\n",
      "post_treatment:treatment_group     2.0069      0.039     51.354      0.000       1.930       2.083\n",
      "==============================================================================\n",
      "Omnibus:                        1.985   Durbin-Watson:                   2.000\n",
      "Prob(Omnibus):                  0.371   Jarque-Bera (JB):                1.986\n",
      "Skew:                           0.019   Prob(JB):                        0.370\n",
      "Kurtosis:                       2.944   Cond. No.                         6.83\n",
      "==============================================================================\n",
      "\n",
      "Notes:\n",
      "[1] Standard Errors assume that the covariance matrix of the errors is correctly specified.\n"
     ]
    }
   ],
   "source": [
    "model = smf.ols(formula, data=df)\n",
    "results = model.fit()\n",
    "print(results.summary())"
   ]
  },
  {
   "cell_type": "markdown",
   "metadata": {},
   "source": [
    "**How do you interpret these results?**"
   ]
  },
  {
   "cell_type": "markdown",
   "metadata": {},
   "source": [
    "## Data Analysis Challenge 1: treatment effect\n",
    "Regenerate the dataset with **different levels of treatment effect** (the impact of remote work). Change the relevant variable, re-reun the data simulation and analysis, and examine whether the regression results accurately reflect the true effect size. Try making the treatment effect:\n",
    "*   Stronger\n",
    "*   Weaker\n",
    "*   Negative\n",
    "*   Null (i.e. no effect)\n",
    "\n",
    "Examine the consequences in the regression results. \n",
    "\n",
    "## Data Analysis Challenge 2: baseline satisfaction levels\n",
    "Edit the **baseline levels of saisfaction** for the two companies. Regenreate the datset a few times with larger or smaller differences in average satisfaction (in the company profiles). Is the regression analysis able to pick up the true effect size of the treatment in a way that is robust to these differences? Can the regression accurately detect the underlying differences in average saistifaction? "
   ]
  },
  {
   "cell_type": "markdown",
   "metadata": {},
   "source": [
    "---\n",
    "# Assignment Two\n",
    "Assignment two is closely related to the skills and exercises we have covered today in this lab. It is designed to scaffold your understanding of regressions and DiD analyses so that you are prepared to apply these skills in your class project. \n",
    "\n",
    "Download and complete the **assignment two notebook** and submit via gradescope **by 10/03/2024 (Thursday next week before midnight Pacific time)**."
   ]
  },
  {
   "cell_type": "code",
   "execution_count": null,
   "metadata": {},
   "outputs": [],
   "source": []
  }
 ],
 "metadata": {
  "colab": {
   "authorship_tag": "ABX9TyMjKKvsXWGfVMJTH0rE3JRo",
   "provenance": []
  },
  "kernelspec": {
   "display_name": "Python 3 (ipykernel)",
   "language": "python",
   "name": "python3"
  },
  "language_info": {
   "codemirror_mode": {
    "name": "ipython",
    "version": 3
   },
   "file_extension": ".py",
   "mimetype": "text/x-python",
   "name": "python",
   "nbconvert_exporter": "python",
   "pygments_lexer": "ipython3",
   "version": "3.12.0"
  }
 },
 "nbformat": 4,
 "nbformat_minor": 4
}
