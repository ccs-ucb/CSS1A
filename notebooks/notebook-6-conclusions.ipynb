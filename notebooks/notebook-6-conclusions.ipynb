{
 "cells": [
  {
   "cell_type": "markdown",
   "metadata": {},
   "source": [
    "<div style=\"background-color: #002676; padding: 20px;\">\n",
    "<img src=\"https://macss.berkeley.edu/wp-content/uploads/2023/09/UCBMaCSS_Logo_2Color_Reverse_TaglineB.png\" alt=\"MaCSS\" width=\"300\">\n",
    "</div>\n",
    "\n",
    "# **Notebook 6:** Conclusions\n",
    "\n",
    "[wdtmacss@berkeley.edu](mailto:wdtmacss@berkeley.edu)\\\n",
    "**Computational Social Science 1A**\\\n",
    "[Human Psychology and Social Technologies](https://classes.berkeley.edu/content/2024-fall-compss-214a-001-lec-001) \n",
    "Fall 2024\\\n",
    "UC Berkeley [Masters in Computational Social Science](https://macss.berkeley.edu/about/)\n",
    "\n",
    "**Week 7:** Misinformation on social media: conclusions and reflections\n",
    "\n",
    "🧁🧁🧑‍💻👩🏻‍💻👨🏿‍💻🧁🧁\n",
    "\n",
    "---\n",
    "\n",
    "# Table of Contents\n",
    "1. [Announcements](#announcements)\n",
    "2. [Summary of Today's Class](#summary-of-todays-class)\n",
    "\n",
    "\n",
    "---"
   ]
  },
  {
   "cell_type": "markdown",
   "metadata": {},
   "source": [
    "# Announcments\n",
    "**Assignment 3: Class project**\n",
    "*  Deadline = 14th October = Monday\n",
    "*  I will create the assignment on Gradesceope this weekend\n",
    "*  This time we will ask for a **PDF** of your rendered notebook as well as your raw `.ipynb` file.\n",
    "*  Ask questions today :)\n",
    "\n",
    "**Assignment 4: Reflections**\n",
    "*  Deadline = 17th October = Thursday\n",
    "*  I will allow standard course evaluations to count\n",
    "   *  Once completion rate reaches 80% I'll consider everyone complete.\n",
    "   *  I will also provide an **additional, non-anonymized, optional** form for additional reflections and thoughts.\n",
    "\n",
    "**Other things to note**\n",
    "* Final grading timeline is TBD\n",
    "* Second half of this class (Computational Social Science 1B is **1 hour later!**)\n",
    "* Next week no class on Friday\n",
    "\n",
    "🎉 **Wrap-up notes** 🎉\n",
    "* If you are interested in pursuing social media stuff (e.g. for your capstone projects), let me know.\n",
    "* Reach out to me any time ([wdt@berkeley.edu](mailto:wdt@berkeley.edu)) if I can help during your time here."
   ]
  },
  {
   "cell_type": "markdown",
   "metadata": {},
   "source": [
    "# Summary of Today's Class\n",
    "\n",
    "**Today we will:** \n",
    "*  Discuss research papers in two teams (& eat cake)\n",
    "*  Work on class projects\n",
    "\n",
    "---"
   ]
  },
  {
   "cell_type": "markdown",
   "metadata": {},
   "source": [
    "# Class Discussion\n",
    "We will split randomly into groups. You will be given time to talk within your group about the papers we read and the key arguments they raised. Afterwards, both teams wil be given an opportunity to present their defence. We will discuss the proposals as a class, and then everyone will declare a commitment individually. \n",
    "\n",
    "## Team Critic\n",
    "Your team is tasked wth defending the view that: the significance of misinformation on social media as problem in society has been **over-emphasized** \n",
    "\n",
    "**Key Paper**: [Misunderstanding the harms of online misinformation](https://www.nature.com/articles/s41586-024-07417-w) ([pdf](https://bcourses.berkeley.edu/files/89852994/download?download_frd=1))\n",
    "\n",
    "## Team Beleiver\n",
    "Your team is tasked wth defending the view that: misinformation on social media **is an important problem in society**.\n",
    "\n",
    "**Key Paper**: [Misinformation poses a bigger threat to democracy than you might think](https://www.nature.com/articles/d41586-024-01587-3) ([pdf](https://bcourses.berkeley.edu/files/89852983/download?download_frd=1))"
   ]
  },
  {
   "cell_type": "markdown",
   "metadata": {},
   "source": [
    "## Key reflection points\n",
    "We will add key reflections here.\n",
    "\n",
    "## Critical\n",
    "## Supportive"
   ]
  },
  {
   "cell_type": "markdown",
   "metadata": {},
   "source": [
    "# Congratulations! 🥳\n",
    "Thank you for your efforts and contributions to this class. I hope this class has helped you develop as a data scientist working with social data. \n",
    "\n",
    "Here are some of the **key technical skills** we have introduced and execrised in this class:\n",
    "\n",
    "* Exploring data by creating and manipulating Pandas DataFrames in python.\n",
    "* Simulating data to assess the robustness and limitations of data analysis techniques\n",
    "* Analyzing data using linear regressions in Python\n",
    "   * Performing regressions in Python\n",
    "   * Creating regressions with multiple predictors and interaction terms\n",
    "   * Interpreting regression tables\n",
    "* Differences in Differences analysis\n",
    "\n",
    "Here are some of the **key holistic skills** we have exercised in this class:\n",
    "\n",
    "* Understanding the limitations of aggregate-level data on social media\n",
    "* Understanding the complexities of misinformation on social media, potential intervention strategies, and consequences for society.\n",
    "* Writing computational essays that offer data-driven answers to questions, integrating code and narrative.\n",
    "\n",
    "---"
   ]
  },
  {
   "cell_type": "markdown",
   "metadata": {},
   "source": [
    "# Class Project Time"
   ]
  },
  {
   "cell_type": "markdown",
   "metadata": {},
   "source": [
    "Work on your class project, ask questions if you have them."
   ]
  }
 ],
 "metadata": {
  "colab": {
   "authorship_tag": "ABX9TyMjKKvsXWGfVMJTH0rE3JRo",
   "provenance": []
  },
  "kernelspec": {
   "display_name": "Python 3 (ipykernel)",
   "language": "python",
   "name": "python3"
  },
  "language_info": {
   "codemirror_mode": {
    "name": "ipython",
    "version": 3
   },
   "file_extension": ".py",
   "mimetype": "text/x-python",
   "name": "python",
   "nbconvert_exporter": "python",
   "pygments_lexer": "ipython3",
   "version": "3.12.0"
  }
 },
 "nbformat": 4,
 "nbformat_minor": 4
}
